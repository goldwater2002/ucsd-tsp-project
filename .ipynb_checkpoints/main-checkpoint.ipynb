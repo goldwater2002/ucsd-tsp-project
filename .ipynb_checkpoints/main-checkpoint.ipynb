{
 "cells": [
  {
   "cell_type": "code",
   "execution_count": null,
   "id": "import-modules",
   "metadata": {},
   "outputs": [],
   "source": [
    "import pandas as pd\n",
    "import matplotlib.pyplot as plt\n",
    "from tsp_ga import genetic_algorithm\n",
    "import numpy as np"
   ]
  },
  {
   "cell_type": "code",
   "execution_count": null,
   "id": "load-data",
   "metadata": {},
   "outputs": [],
   "source": [
    "# 读取地点数据\n",
    "df = pd.read_csv('ucsd_locations.csv')\n",
    "locations = list(zip(df['lat'], df['lon']))"
   ]
  },
  {
   "cell_type": "code",
   "execution_count": null,
   "id": "run-algorithm",
   "metadata": {},
   "outputs": [],
   "source": [
    "# 运行遗传算法\n",
    "path = genetic_algorithm(locations)"
   ]
  },
  {
   "cell_type": "code",
   "execution_count": null,
   "id": "plot-path",
   "metadata": {},
   "outputs": [],
   "source": [
    "# 可视化路径\n",
    "x = [locations[i][1] for i in path] + [locations[path[0]][1]]\n",
    "y = [locations[i][0] for i in path] + [locations[path[0]][0]]\n",
    "plt.figure(figsize=(8,6))\n",
    "plt.plot(x, y, 'o-')\n",
    "for i, idx in enumerate(path):\n",
    "    plt.text(locations[idx][1], locations[idx][0], str(i+1), fontsize=9)\n",
    "plt.title('Optimized UCSD Delivery Path')\n",
    "plt.xlabel('Longitude')\n",
    "plt.ylabel('Latitude')\n",
    "plt.grid(True)\n",
    "plt.show()"
   ]
  }
 ],
 "metadata": {
  "kernelspec": {
   "display_name": "Python 3",
   "language": "python",
   "name": "python3"
  },
  "language_info": {
   "name": "python",
   "version": ""
  }
 },
 "nbformat": 4,
 "nbformat_minor": 5
}